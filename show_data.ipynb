{
 "cells": [
  {
   "cell_type": "code",
   "execution_count": 9,
   "metadata": {},
   "outputs": [
    {
     "name": "stdout",
     "output_type": "stream",
     "text": [
      "{\n",
      "  \"person\": \"chy\",\n",
      "  \"material\": 1,\n",
      "  \"trial\": 0,\n",
      "  \"label\": 3,\n",
      "  \"feature_Ts\": 273.75,\n",
      "  \"feature_Fs\": 0.475,\n",
      "  \"feature_Gs\": 36.4872959997,\n",
      "  \"feature_Gs_ch1\": 0.0031104199,\n",
      "  \"feature_Gs_ch2\": -0.0149300156,\n",
      "  \"feature_ZCRs\": 2.653525398,\n",
      "  \"feature_slopes\": 40.940106141,\n",
      "  \"feature_mu3s\": 0.148885251,\n",
      "  \"feature_mu4s\": 2.9634378422,\n",
      "  \"feature_mu_frics\": 0.9931854656,\n",
      "  \"feature_AVG_normal_force\": 0.7481174184,\n",
      "  \"feature_Touch_time\": 1648.125,\n",
      "  \"feature_Roughness\": 0.0675171051,\n",
      "  \"feature_Friction_F\": 0.794163147,\n",
      "  \"feature_STD_fric\": 0.4618135625,\n",
      "  \"feature_COV_fric\": 0.5815096863,\n",
      "  \"feature_ZCRs_CH1\": 0.006444276,\n",
      "  \"feature_ZCRs_CH2\": 0.0045489007,\n",
      "  \"feature_slopes_fric\": 0.0015163002,\n",
      "  \"feature_STD_normal\": 0.2959130666,\n",
      "  \"feature_COV_normal\": 0.395543613,\n",
      "  \"feature_F_Amp\": 1.0995576812,\n",
      "  \"feature_F_Amp_std\": 0.5312099311,\n",
      "  \"feature_F_Amp_cov\": 0.4831123825,\n",
      "  \"feature_F_max\": 1.431,\n",
      "  \"feature_Press_angle\": 46.2096095983,\n",
      "  \"feature_Press_angle_std\": 8.5236203573\n",
      "}\n"
     ]
    }
   ],
   "source": [
    "import pandas as pd\n",
    "import json\n",
    "\n",
    "# 读取数据\n",
    "df = pd.read_csv('data.csv')\n",
    "\n",
    "# 将DataFrame转换为JSON格式\n",
    "json_data = df.to_json(orient='records', lines=False, force_ascii=False)\n",
    "\n",
    "json_data = json.loads(json_data)\n",
    "print(json.dumps(json_data[0], indent=2))"
   ]
  }
 ],
 "metadata": {
  "kernelspec": {
   "display_name": "nlp",
   "language": "python",
   "name": "python3"
  },
  "language_info": {
   "codemirror_mode": {
    "name": "ipython",
    "version": 3
   },
   "file_extension": ".py",
   "mimetype": "text/x-python",
   "name": "python",
   "nbconvert_exporter": "python",
   "pygments_lexer": "ipython3",
   "version": "3.10.9"
  }
 },
 "nbformat": 4,
 "nbformat_minor": 2
}
